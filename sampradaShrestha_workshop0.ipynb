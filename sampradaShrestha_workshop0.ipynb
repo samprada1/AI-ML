{
  "nbformat": 4,
  "nbformat_minor": 0,
  "metadata": {
    "colab": {
      "provenance": [],
      "collapsed_sections": [
        "_lHKK-IYvFRU",
        "nPBkNM7ZxbWO",
        "08ArRNw3WRRK",
        "oWh3SQf0lP0t",
        "PH8k30IUqonM"
      ]
    },
    "kernelspec": {
      "name": "python3",
      "display_name": "Python 3"
    },
    "language_info": {
      "name": "python"
    }
  },
  "cells": [
    {
      "cell_type": "markdown",
      "source": [
        "#Worksheet - 0"
      ],
      "metadata": {
        "id": "HmlzwRP7tlJG"
      }
    },
    {
      "cell_type": "markdown",
      "source": [
        "#Basics"
      ],
      "metadata": {
        "id": "vDQ9SwzpT9Pe"
      }
    },
    {
      "cell_type": "markdown",
      "source": [
        "##Exercise on Functions"
      ],
      "metadata": {
        "id": "bNcAhWANUA3f"
      }
    },
    {
      "cell_type": "markdown",
      "source": [
        "###Task - 1"
      ],
      "metadata": {
        "id": "2RzQ5ebHyIZz"
      }
    },
    {
      "cell_type": "code",
      "source": [
        "def lengthConversion():\n",
        "  \"\"\"\n",
        "    used to convert m to ft or vice versa\n",
        "  \"\"\"\n",
        "  length = input(\"Enter m or ft.\")\n",
        "  if(length == \"m\"):\n",
        "    meter = float(input(\"Enter length in meter\"))\n",
        "    print(f\"{meter}m = {meter * 3.28}ft.\")\n",
        "  elif(length == \"ft\"):\n",
        "    feet = float(input(\"Enter length in feet\"))\n",
        "    print(f\"{feet}ft = {feet / 3.28}m\")\n",
        "  else:\n",
        "    raise ValueError(\"Invalid Length\")\n",
        "def weightConversion():\n",
        "  '''\n",
        "    used to convert kg to lbs or vice versa\n",
        "  '''\n",
        "  weight = input(\"Enter kg or lbs: \")\n",
        "  if(weight == \"kg\"):\n",
        "    kg = float(input(\"Enter weight in kg: \"))\n",
        "    print(f\"{kg}kg => {kg * 2.20}lbs\")\n",
        "  elif(weight == \"lbs\"):\n",
        "    lbs = float(input(\"Enter weight in lbs: \"))\n",
        "    print(f\"{lbs}lbs => {lbs / 2.20}kg\")\n",
        "  else:\n",
        "    raise ValueError(\"Invalid Weight\")\n",
        "def volumeConversion():\n",
        "  '''\n",
        "    used to convert litre to gallon or vice versa\n",
        "  '''\n",
        "  volume = input(\"Enter l or gal: \")\n",
        "  if(volume == \"l\"):\n",
        "    litre = float(input(\"Enter Litres: \"))\n",
        "    print(f\"{litre}l => {litre * 0.264}gallons\")\n",
        "  elif(volume == \"gal\"):\n",
        "    gal = float(input(\"Enter Gallon: \"))\n",
        "    print(f\"{gal}gallons => {gal / 0.264}litres\")\n",
        "  else:\n",
        "    raise ValueError(\"Invalid Unit\")"
      ],
      "metadata": {
        "id": "7X4kOkC5VQR7"
      },
      "execution_count": 20,
      "outputs": []
    },
    {
      "cell_type": "code",
      "source": [
        "\n",
        "while True:\n",
        "  typeOfConv = input(\"Choose type of Conversion (length or weight or volume): \")\n",
        "  try:\n",
        "    if(typeOfConv == \"length\"):\n",
        "      lengthConversion()\n",
        "    elif(typeOfConv == \"weight\"):\n",
        "      weightConversion()\n",
        "    elif(typeOfConv == \"volume\"):\n",
        "      volumeConversion()\n",
        "    if(typeOfConv in [\"length\", \"weight\", \"volume\"]):\n",
        "      break;\n",
        "    else:\n",
        "      print(\"Invalid Input!!!(Enter: length or weight or volume)\")\n",
        "      continue;\n",
        "  except ValueError as ve:\n",
        "    print(f\"Error: {ve}\")\n",
        "    continue;\n",
        "\n",
        ""
      ],
      "metadata": {
        "colab": {
          "base_uri": "https://localhost:8080/"
        },
        "id": "ExTUPm1DUAXk",
        "outputId": "a0b43455-bdcb-41fb-e1ac-dbb3d35ed82d"
      },
      "execution_count": 21,
      "outputs": [
        {
          "output_type": "stream",
          "name": "stdout",
          "text": [
            "Choose type of Conversion (length or weight or volume): length\n",
            "Enter m or ft.m\n",
            "Enter length in meterdf\n",
            "Error: could not convert string to float: 'df'\n",
            "Choose type of Conversion (length or weight or volume): length\n",
            "Enter m or ft.m\n",
            "Enter length in meter39\n",
            "39.0m = 127.91999999999999ft.\n"
          ]
        }
      ]
    },
    {
      "cell_type": "markdown",
      "source": [
        "###Task - 2"
      ],
      "metadata": {
        "id": "nlnjuULLyLwn"
      }
    },
    {
      "cell_type": "code",
      "source": [
        "def sumIt(nums):\n",
        "  summ = 0\n",
        "  for i in nums:\n",
        "    summ += i\n",
        "  return summ\n",
        "def avgIt(nums):\n",
        "  summ = sumIt(nums)\n",
        "  return summ/len(nums)\n",
        "\n",
        "def maxIt(nums):\n",
        "  max = nums[0]\n",
        "  for i in nums:\n",
        "    if i > max:\n",
        "      max = i\n",
        "  return max\n",
        "\n",
        "def minIt(nums):\n",
        "  min = nums[0]\n",
        "  for i in nums:\n",
        "    if i < min:\n",
        "      min = i\n",
        "  return min"
      ],
      "metadata": {
        "id": "jWVFa-DZyNR6"
      },
      "execution_count": 25,
      "outputs": []
    },
    {
      "cell_type": "code",
      "source": [
        "while True:\n",
        "    task = input(\"Choose an task (sum, average, max, min): \").strip().lower()\n",
        "\n",
        "    try:\n",
        "        if task not in [\"sum\", \"average\", \"max\", \"min\"]:\n",
        "            print(\"Invalid Input!!! (Enter: sum, average, max, min)\")\n",
        "            continue\n",
        "\n",
        "        nums = input(\"Enter a list of numbers separated by spaces: \").strip().split()\n",
        "        nums = [float(num) for num in nums]\n",
        "\n",
        "        if len(nums) == 0:\n",
        "            raise ValueError(\"The list cannot be empty.\")\n",
        "\n",
        "        if task == \"sum\":\n",
        "            result = sumIt(nums)\n",
        "        elif task == \"average\":\n",
        "            result = avgIt(nums)\n",
        "        elif task == \"max\":\n",
        "            result = maxIt(nums)\n",
        "        elif task == \"min\":\n",
        "            result = minIt(nums)\n",
        "\n",
        "        print(f\"The result of {task} task is: {result}\")\n",
        "        break\n",
        "\n",
        "    except ValueError as ve:\n",
        "        print(f\"Error: {ve} Numeric Values only\")\n",
        "        continue"
      ],
      "metadata": {
        "colab": {
          "base_uri": "https://localhost:8080/"
        },
        "id": "3T8Gg-G0UP_L",
        "outputId": "3185d57c-c407-4bbc-ec24-3975e285f29f"
      },
      "execution_count": 30,
      "outputs": [
        {
          "output_type": "stream",
          "name": "stdout",
          "text": [
            "Choose an task (sum, average, max, min): min\n",
            "Enter a list of numbers separated by spaces: 2 3 4 4 5 0\n",
            "The result of min task is: 0.0\n"
          ]
        }
      ]
    },
    {
      "cell_type": "markdown",
      "source": [
        "##Exercise on List Manipulation"
      ],
      "metadata": {
        "id": "xgn2nJlnUNXE"
      }
    },
    {
      "cell_type": "code",
      "source": [
        "def extract(nums):\n",
        "    \"\"\"1. Extracts every other value of list\"\"\"\n",
        "    return nums[::2]\n",
        "\n",
        "def slicee(nums, start, end):\n",
        "    \"\"\"2. Slice the list from start to end index\"\"\"\n",
        "    return nums[start:end+1]\n",
        "\n",
        "def reverse(nums):\n",
        "    \"\"\"3. reverses the list\"\"\"\n",
        "    return nums[::-1]\n",
        "\n",
        "def remove(nums):\n",
        "    \"\"\"4. Removes the first and last numbers of the list\"\"\"\n",
        "    return nums[1:-1]\n",
        "\n",
        "def getfirstn(nums, n):\n",
        "    \"\"\"5. Gets the first n number of items from the list\"\"\"\n",
        "    return nums[:n]\n",
        "\n",
        "def getlastn(nums, n):\n",
        "    \"\"\"6. Gets the last n number of items from the list \"\"\"\n",
        "    return nums[-n:]\n",
        "\n",
        "def reverseskip(nums):\n",
        "  \"\"\"7. \"\"\"\n",
        "  return nums[-2::-2]"
      ],
      "metadata": {
        "id": "Npm7kXxz1p0a"
      },
      "execution_count": 39,
      "outputs": []
    },
    {
      "cell_type": "code",
      "source": [
        "while True:\n",
        "    task = input(\"Choose a task (extract, slice, reverse, remove, getfirstn, getlastn, reverseskip): \").strip().lower()\n",
        "\n",
        "    try:\n",
        "        if task not in [\"extract\", \"slice\", \"reverse\", \"remove\", \"getfirstn\", \"getlastn\", \"reverseskip\"]:\n",
        "            print(\"Invalid Input!!! (Enter: extract, slice, reverse, remove, getfirstn, getlastn, reverseskip)\")\n",
        "            continue\n",
        "\n",
        "        nums = input(\"Enter a list of numbers separated by spaces: \").strip().split()\n",
        "        nums = [float(num) for num in nums]\n",
        "\n",
        "        if len(nums) == 0:\n",
        "            raise ValueError(\"The list cannot be empty.\")\n",
        "\n",
        "        if task == \"extract\":\n",
        "            result = extract(nums)\n",
        "        elif task == \"slice\":\n",
        "            start = int(input(\"Enter start index: \"))\n",
        "            end = int(input(\"Enter end index: \"))\n",
        "            result = slice(nums, start, end)\n",
        "        elif task == \"reverse\":\n",
        "            result = reverse(nums)\n",
        "        elif task == \"remove\":\n",
        "            result = remove(nums)\n",
        "        elif task == \"getfirstn\":\n",
        "            n = int(input(\"Enter N: \"))\n",
        "            result = getfirstn(nums, n)\n",
        "        elif task == \"getlastn\":\n",
        "            n = int(input(\"Enter N: \"))\n",
        "            result = getlastn(nums, n)\n",
        "        elif task == \"reverseskip\":\n",
        "            result = reverseskip(nums)\n",
        "\n",
        "        print(f\"The result of {task} task is: {result}\")\n",
        "        break\n",
        "\n",
        "    except ValueError as ve:\n",
        "        print(f\"Error: {ve}. Please enter valid numeric values.\")\n",
        "        continue"
      ],
      "metadata": {
        "colab": {
          "base_uri": "https://localhost:8080/"
        },
        "id": "_8prsdzm16Y6",
        "outputId": "60e82b9a-acf6-462b-9c0f-c11642fcaf24"
      },
      "execution_count": 40,
      "outputs": [
        {
          "output_type": "stream",
          "name": "stdout",
          "text": [
            "Choose a task (extract, slice, reverse, remove, getfirstn, getlastn, reverseskip): reverseskip\n",
            "Enter a list of numbers separated by spaces: 1 2 3 4 5 6 7\n",
            "The result of reverseskip task is: [6.0, 4.0, 2.0]\n"
          ]
        }
      ]
    },
    {
      "cell_type": "markdown",
      "source": [
        "##Exercise on Nested List"
      ],
      "metadata": {
        "id": "DVT_P5k256Q8"
      }
    },
    {
      "cell_type": "code",
      "source": [
        "def flatten(lst):\n",
        "    \"\"\"It makes a nested list into a single list(makes it into a single dimension)\"\"\"\n",
        "    flat_list = []\n",
        "    for sublist in lst:\n",
        "        if isinstance(sublist, list):\n",
        "            flat_list.extend(flatten(sublist))\n",
        "        else:\n",
        "            flat_list.append(sublist)\n",
        "    return flat_list\n",
        "\n",
        "def accessnestedelement(lst, indices):\n",
        "    \"\"\"Access the Nested List elements\"\"\"\n",
        "    element = lst\n",
        "    for index in indices:\n",
        "        element = element[index]\n",
        "    return element\n",
        "\n",
        "def sumnested(lst):\n",
        "    \"\"\"Sums all the elements of the nested List\"\"\"\n",
        "    total = 0\n",
        "    for item in lst:\n",
        "        if isinstance(item, list):\n",
        "            total += sumnested(item)\n",
        "        else:\n",
        "            total += item\n",
        "    return total\n",
        "\n",
        "def removeelement(lst, elem):\n",
        "    \"\"\"Removes specific element of the list\"\"\"\n",
        "    modified_list = []\n",
        "    for item in lst:\n",
        "        if isinstance(item, list):\n",
        "            modified_list.append(removeelement(item, elem))\n",
        "        elif item != elem:\n",
        "            modified_list.append(item)\n",
        "    return [sublist for sublist in modified_list if sublist]\n",
        "\n",
        "def findmax(lst):\n",
        "    \"\"\"Finds the maximum value element of the list\"\"\"\n",
        "    max_value = float('-inf')\n",
        "    for item in lst:\n",
        "        if isinstance(item, list):\n",
        "            max_value = max(max_value, findmax(item))\n",
        "        else:\n",
        "            max_value = max(max_value, item)\n",
        "    return max_value\n",
        "\n",
        "def countoccurrences(lst, elem):\n",
        "    \"\"\"Count the number of time an element appears in the list\"\"\"\n",
        "    count = 0\n",
        "    for item in lst:\n",
        "        if isinstance(item, list):\n",
        "            count += countoccurrences(item, elem)\n",
        "        elif item == elem:\n",
        "            count += 1\n",
        "    return count\n",
        "\n",
        "def flatten2(lst):\n",
        "    \"\"\" \"\"\"\n",
        "    flat_list = []\n",
        "    for item in lst:\n",
        "        if isinstance(item, list):\n",
        "            flat_list.extend(flatten2(item))\n",
        "        else:\n",
        "            flat_list.append(item)\n",
        "    return flat_list\n",
        "\n",
        "def averagenested(lst):\n",
        "    \"\"\" \"\"\"\n",
        "    flat_list = flatten(lst)\n",
        "    return sum(flat_list) / len(flat_list) if flat_list else 0"
      ],
      "metadata": {
        "id": "cYL4vBob59ZC"
      },
      "execution_count": 42,
      "outputs": []
    },
    {
      "cell_type": "code",
      "source": [
        "while True:\n",
        "    task = input(\"Choose a task (flatten, accessnestedelement, sumnested, removeelement, findmax, countoccurrences, flatten2, averagenested): \").strip().lower()\n",
        "\n",
        "    try:\n",
        "        if task not in [\"flatten\", \"accessnestedelement\", \"sumnested\", \"removeelement\", \"findmax\", \"countoccurrences\", \"flatten2\", \"averagenested\"]:\n",
        "            print(\"Invalid Input!!! Please choose a valid task.\")\n",
        "            continue\n",
        "\n",
        "        nested_list = eval(input(\"Enter a nested list (use square brackets []): \"))  # Using eval to accept nested lists\n",
        "\n",
        "        if not isinstance(nested_list, list):\n",
        "            raise ValueError(\"Input must be a list\")\n",
        "\n",
        "        if task == \"flatten\":\n",
        "            result = flatten(nested_list)\n",
        "        elif task == \"accessnestedelement\":\n",
        "            indices = list(map(int, input(\"Enter indices separated by spaces: \").strip().split()))\n",
        "            result = accessnestedelement(nested_list, indices)\n",
        "        elif task == \"sumnested\":\n",
        "            result = sumnested(nested_list)\n",
        "        elif task == \"removeelement\":\n",
        "            elem = eval(input(\"Enter element to remove: \"))  # Using eval to accept numbers and strings\n",
        "            result = removeelement(nested_list, elem)\n",
        "        elif task == \"findmax\":\n",
        "            result = findmax(nested_list)\n",
        "        elif task == \"countoccurrences\":\n",
        "            elem = eval(input(\"Enter element to count: \"))\n",
        "            result = countoccurrences(nested_list, elem)\n",
        "        elif task == \"flatten2\":\n",
        "            result = flatten2(nested_list)\n",
        "        elif task == \"averagenested\":\n",
        "            result = averagenested(nested_list)\n",
        "\n",
        "        print(f\"The result of {task} task is: {result}\")\n",
        "        break\n",
        "\n",
        "    except (ValueError, TypeError, IndexError) as e:\n",
        "        print(f\"Error: {e}. Please enter valid input.\")\n",
        "        continue"
      ],
      "metadata": {
        "colab": {
          "base_uri": "https://localhost:8080/"
        },
        "id": "REJ4VROG6UZZ",
        "outputId": "96a789f0-0467-4841-8795-065316837585"
      },
      "execution_count": 44,
      "outputs": [
        {
          "output_type": "stream",
          "name": "stdout",
          "text": [
            "Choose a task (flatten, accessnestedelement, sumnested, removeelement, findmax, countoccurrences, flatten2, averagenested): flatten\n",
            "Enter a nested list (use square brackets []): [[1, 3, 4 ,5, 6], [2]]\n",
            "The result of flatten task is: [1, 3, 4, 5, 6, 2]\n"
          ]
        }
      ]
    },
    {
      "cell_type": "markdown",
      "source": [
        "#Numpy"
      ],
      "metadata": {
        "id": "e-1fS5hjTxm5"
      }
    },
    {
      "cell_type": "markdown",
      "source": [
        "##Importing Necessary Libraries"
      ],
      "metadata": {
        "id": "KtPO7SuAto7l"
      }
    },
    {
      "cell_type": "code",
      "execution_count": null,
      "metadata": {
        "id": "4jpW4aLksfQw"
      },
      "outputs": [],
      "source": [
        "import numpy as np\n",
        "import time"
      ]
    },
    {
      "cell_type": "markdown",
      "source": [
        "##Problem - 1: Array Creation"
      ],
      "metadata": {
        "id": "_lHKK-IYvFRU"
      }
    },
    {
      "cell_type": "markdown",
      "source": [
        "###1. Initializing Empty Array (2 * 2)"
      ],
      "metadata": {
        "id": "V7mNb6HHuMO7"
      }
    },
    {
      "cell_type": "code",
      "source": [
        "array = np.empty((2, 2))\n",
        "array #contains garbage values"
      ],
      "metadata": {
        "colab": {
          "base_uri": "https://localhost:8080/"
        },
        "id": "IghEv9ZhuSW2",
        "outputId": "f2c7ddba-6ca8-4ca8-b739-053a48065df8"
      },
      "execution_count": null,
      "outputs": [
        {
          "output_type": "execute_result",
          "data": {
            "text/plain": [
              "array([[1.86792e-316, 0.00000e+000],\n",
              "       [0.00000e+000, 5.78551e-321]])"
            ]
          },
          "metadata": {},
          "execution_count": 2
        }
      ]
    },
    {
      "cell_type": "code",
      "source": [
        "array = np.zeros((2, 2))\n",
        "array #initializes with 0"
      ],
      "metadata": {
        "colab": {
          "base_uri": "https://localhost:8080/"
        },
        "id": "6ED3VzQwuhes",
        "outputId": "bf1a3682-933e-4f20-8206-0b0b66ec2c6f"
      },
      "execution_count": null,
      "outputs": [
        {
          "output_type": "execute_result",
          "data": {
            "text/plain": [
              "array([[0., 0.],\n",
              "       [0., 0.]])"
            ]
          },
          "metadata": {},
          "execution_count": 3
        }
      ]
    },
    {
      "cell_type": "code",
      "source": [
        "array = np.full((2, 2), 20) #you can specify your initialization value\n",
        "array #20"
      ],
      "metadata": {
        "colab": {
          "base_uri": "https://localhost:8080/"
        },
        "id": "xss1mQBmuoM6",
        "outputId": "dd719771-9496-476b-db76-3e8b93e6fa40"
      },
      "execution_count": null,
      "outputs": [
        {
          "output_type": "execute_result",
          "data": {
            "text/plain": [
              "array([[20, 20],\n",
              "       [20, 20]])"
            ]
          },
          "metadata": {},
          "execution_count": 4
        }
      ]
    },
    {
      "cell_type": "markdown",
      "source": [
        "###2. Initializing all one array (4 * 2)"
      ],
      "metadata": {
        "id": "5feXdI26vDqe"
      }
    },
    {
      "cell_type": "code",
      "source": [
        "array = np.ones((4, 2), dtype=int) #set type to integer initiall float\n",
        "array"
      ],
      "metadata": {
        "colab": {
          "base_uri": "https://localhost:8080/"
        },
        "id": "YK32JemAu0G1",
        "outputId": "8e154776-ac64-4e5f-bf77-cc07cb40c356"
      },
      "execution_count": null,
      "outputs": [
        {
          "output_type": "execute_result",
          "data": {
            "text/plain": [
              "array([[1, 1],\n",
              "       [1, 1],\n",
              "       [1, 1],\n",
              "       [1, 1]])"
            ]
          },
          "metadata": {},
          "execution_count": 5
        }
      ]
    },
    {
      "cell_type": "code",
      "source": [
        "array = np.full((4, 2), 1)\n",
        "array"
      ],
      "metadata": {
        "colab": {
          "base_uri": "https://localhost:8080/"
        },
        "id": "fcxdtD59vUx8",
        "outputId": "3d7dd118-c67d-4346-a02c-32f7761651fd"
      },
      "execution_count": null,
      "outputs": [
        {
          "output_type": "execute_result",
          "data": {
            "text/plain": [
              "array([[1, 1],\n",
              "       [1, 1],\n",
              "       [1, 1],\n",
              "       [1, 1]])"
            ]
          },
          "metadata": {},
          "execution_count": 6
        }
      ]
    },
    {
      "cell_type": "markdown",
      "source": [
        "###3. New Array of Given Shape and type filled with fill value"
      ],
      "metadata": {
        "id": "6GTqMzNhvqA0"
      }
    },
    {
      "cell_type": "code",
      "source": [
        "array = np.full((4, 4), 9, dtype=int)\n",
        "array"
      ],
      "metadata": {
        "colab": {
          "base_uri": "https://localhost:8080/"
        },
        "id": "ar5bOe4Qv14a",
        "outputId": "4e18fa77-0b8a-4e56-fed8-2deba127bd6d"
      },
      "execution_count": null,
      "outputs": [
        {
          "output_type": "execute_result",
          "data": {
            "text/plain": [
              "array([[9, 9, 9, 9],\n",
              "       [9, 9, 9, 9],\n",
              "       [9, 9, 9, 9],\n",
              "       [9, 9, 9, 9]])"
            ]
          },
          "metadata": {},
          "execution_count": 7
        }
      ]
    },
    {
      "cell_type": "markdown",
      "source": [
        "###4. New array of zeros with same shape and type as given array"
      ],
      "metadata": {
        "id": "De-1ZrLQwPTh"
      }
    },
    {
      "cell_type": "code",
      "source": [
        "array = np.full((4, 4), 8)\n",
        "new_array = np.zeros_like(array)\n",
        "new_array"
      ],
      "metadata": {
        "colab": {
          "base_uri": "https://localhost:8080/"
        },
        "id": "8TfNOjgxwVr9",
        "outputId": "1cf262db-383b-4b2c-e7ef-8614e72271bd"
      },
      "execution_count": null,
      "outputs": [
        {
          "output_type": "execute_result",
          "data": {
            "text/plain": [
              "array([[0, 0, 0, 0],\n",
              "       [0, 0, 0, 0],\n",
              "       [0, 0, 0, 0],\n",
              "       [0, 0, 0, 0]])"
            ]
          },
          "metadata": {},
          "execution_count": 8
        }
      ]
    },
    {
      "cell_type": "markdown",
      "source": [
        "###5. New array of ones with same shape and type as given array"
      ],
      "metadata": {
        "id": "oCfy_0p6wpcV"
      }
    },
    {
      "cell_type": "code",
      "source": [
        "array = np.full((4, 3), 8)\n",
        "new_array = np.ones_like(array)\n",
        "new_array"
      ],
      "metadata": {
        "colab": {
          "base_uri": "https://localhost:8080/"
        },
        "id": "0YVB2p_Tw8ti",
        "outputId": "a27601ee-c8b4-49fa-9374-b5a65e5819ee"
      },
      "execution_count": null,
      "outputs": [
        {
          "output_type": "execute_result",
          "data": {
            "text/plain": [
              "array([[1, 1, 1],\n",
              "       [1, 1, 1],\n",
              "       [1, 1, 1],\n",
              "       [1, 1, 1]])"
            ]
          },
          "metadata": {},
          "execution_count": 9
        }
      ]
    },
    {
      "cell_type": "markdown",
      "source": [
        "###6. Convert to NumPy array"
      ],
      "metadata": {
        "id": "2kM0RDBkxDqq"
      }
    },
    {
      "cell_type": "code",
      "source": [
        "new_list = [1, 2, 3, 4]\n",
        "np_list = np.array(new_list)\n",
        "print(\"Normal List: \", new_list)\n",
        "print(\"Numpy List: \", np_list)"
      ],
      "metadata": {
        "colab": {
          "base_uri": "https://localhost:8080/"
        },
        "id": "VxfYhls4xHtI",
        "outputId": "462c416b-6940-4cbc-a380-351dfcc7187a"
      },
      "execution_count": null,
      "outputs": [
        {
          "output_type": "stream",
          "name": "stdout",
          "text": [
            "Normal List:  [1, 2, 3, 4]\n",
            "Numpy List:  [1 2 3 4]\n"
          ]
        }
      ]
    },
    {
      "cell_type": "markdown",
      "source": [
        "##Problem - 2: Array Manipulation: Numerical Ranges and Array Indexing"
      ],
      "metadata": {
        "id": "nPBkNM7ZxbWO"
      }
    },
    {
      "cell_type": "markdown",
      "source": [
        "###1. Create an array with values ranging from 10 to 49"
      ],
      "metadata": {
        "id": "tvT0AZMSyCpO"
      }
    },
    {
      "cell_type": "code",
      "source": [
        "array = np.arange(10, 50)\n",
        "array"
      ],
      "metadata": {
        "colab": {
          "base_uri": "https://localhost:8080/"
        },
        "id": "cyJQwTDUxaJO",
        "outputId": "564fe121-6886-4c77-b359-ebcb172ad1a6"
      },
      "execution_count": null,
      "outputs": [
        {
          "output_type": "execute_result",
          "data": {
            "text/plain": [
              "array([10, 11, 12, 13, 14, 15, 16, 17, 18, 19, 20, 21, 22, 23, 24, 25, 26,\n",
              "       27, 28, 29, 30, 31, 32, 33, 34, 35, 36, 37, 38, 39, 40, 41, 42, 43,\n",
              "       44, 45, 46, 47, 48, 49])"
            ]
          },
          "metadata": {},
          "execution_count": 11
        }
      ]
    },
    {
      "cell_type": "markdown",
      "source": [
        "###2. Create a 3X3 matrix with values ranging from 0 to 8"
      ],
      "metadata": {
        "id": "Y-M5n2shy1ad"
      }
    },
    {
      "cell_type": "code",
      "source": [
        "array = np.arange(0, 9)\n",
        "reshaped = np.reshape(array, (3, 3))\n",
        "print(array)\n",
        "print(reshaped)"
      ],
      "metadata": {
        "colab": {
          "base_uri": "https://localhost:8080/"
        },
        "id": "9Kxd1jnVyNYl",
        "outputId": "5060ab0b-64d8-4d2e-e0a0-22d2eff1ff2c"
      },
      "execution_count": null,
      "outputs": [
        {
          "output_type": "stream",
          "name": "stdout",
          "text": [
            "[0 1 2 3 4 5 6 7 8]\n",
            "[[0 1 2]\n",
            " [3 4 5]\n",
            " [6 7 8]]\n"
          ]
        }
      ]
    },
    {
      "cell_type": "markdown",
      "source": [
        "###3. Create a 3*3 identity matrix"
      ],
      "metadata": {
        "id": "Tao14ESa0dVu"
      }
    },
    {
      "cell_type": "code",
      "source": [
        "array = np.eye(3, dtype=int)\n",
        "array"
      ],
      "metadata": {
        "colab": {
          "base_uri": "https://localhost:8080/"
        },
        "id": "4uX8om2H0c_W",
        "outputId": "0f1d0e4e-add8-4624-d811-3c0e5d2ef00a"
      },
      "execution_count": null,
      "outputs": [
        {
          "output_type": "execute_result",
          "data": {
            "text/plain": [
              "array([[1, 0, 0],\n",
              "       [0, 1, 0],\n",
              "       [0, 0, 1]])"
            ]
          },
          "metadata": {},
          "execution_count": 13
        }
      ]
    },
    {
      "cell_type": "markdown",
      "source": [
        "###4. Random Array Size 30 and Mean"
      ],
      "metadata": {
        "id": "LW9MdaH_02pa"
      }
    },
    {
      "cell_type": "code",
      "source": [
        "random_arr = np.random.random(30)\n",
        "\n",
        "mean_arr = random_arr.mean()\n",
        "\n",
        "print(random_arr)\n",
        "print(\"Mean: \", mean_arr)"
      ],
      "metadata": {
        "colab": {
          "base_uri": "https://localhost:8080/"
        },
        "id": "l4ULKFSd0xLi",
        "outputId": "092c8cde-1b7a-470b-a28d-00eb3e16068f"
      },
      "execution_count": null,
      "outputs": [
        {
          "output_type": "stream",
          "name": "stdout",
          "text": [
            "[0.93134961 0.8635721  0.74932934 0.66765332 0.52366252 0.1321128\n",
            " 0.24830668 0.73411917 0.33334322 0.83842636 0.58497043 0.28381651\n",
            " 0.97193311 0.3997206  0.42720709 0.04949679 0.61037031 0.55043134\n",
            " 0.56454661 0.03048991 0.73490457 0.0966294  0.19834246 0.32923038\n",
            " 0.87757202 0.2289481  0.05639096 0.63524893 0.42955544 0.59497382]\n",
            "Mean:  0.4892217964721296\n"
          ]
        }
      ]
    },
    {
      "cell_type": "markdown",
      "source": [
        "###5. Create a 10X10 array with random values and find the minimum and maximum values"
      ],
      "metadata": {
        "id": "qRxQIR5L3BwW"
      }
    },
    {
      "cell_type": "code",
      "source": [
        "# random_arr = np.random.random((10, 10))\n",
        "random_arr = np.random.randint(1, 10, (10, 10))\n",
        "min = random_arr.min()\n",
        "max = random_arr.max()\n",
        "\n",
        "print(random_arr)\n",
        "print()\n",
        "print(\"Min: \", min)\n",
        "print(\"Max: \", max)"
      ],
      "metadata": {
        "colab": {
          "base_uri": "https://localhost:8080/"
        },
        "id": "bRPeMC8w3BUa",
        "outputId": "26c567e4-3af1-4f6b-c7ce-c3fa461b462c"
      },
      "execution_count": null,
      "outputs": [
        {
          "output_type": "stream",
          "name": "stdout",
          "text": [
            "[[2 3 5 2 2 6 5 9 1 6]\n",
            " [5 4 2 7 8 9 3 1 5 2]\n",
            " [4 1 6 1 5 6 1 2 8 9]\n",
            " [7 7 6 8 7 5 6 8 5 2]\n",
            " [3 6 1 7 9 5 3 8 9 9]\n",
            " [8 1 9 5 8 8 5 1 3 6]\n",
            " [6 7 4 4 9 4 9 6 4 8]\n",
            " [9 8 9 7 9 3 4 8 5 4]\n",
            " [2 4 9 4 1 4 8 1 3 6]\n",
            " [9 4 1 1 3 9 8 4 5 9]]\n",
            "\n",
            "Min:  1\n",
            "Max:  9\n"
          ]
        }
      ]
    },
    {
      "cell_type": "markdown",
      "source": [
        "###6. Create a zero array of size 10 and replace 5th element with 1"
      ],
      "metadata": {
        "id": "WtMi6wc54WZb"
      }
    },
    {
      "cell_type": "code",
      "source": [
        "array = np.zeros(10, dtype=int)\n",
        "print(array)\n",
        "array[4] = 1\n",
        "print(array)"
      ],
      "metadata": {
        "colab": {
          "base_uri": "https://localhost:8080/"
        },
        "id": "T6xfd6br4asL",
        "outputId": "c92046de-6aaa-40c6-d0bf-8de5427f1e0d"
      },
      "execution_count": null,
      "outputs": [
        {
          "output_type": "stream",
          "name": "stdout",
          "text": [
            "[0 0 0 0 0 0 0 0 0 0]\n",
            "[0 0 0 0 1 0 0 0 0 0]\n"
          ]
        }
      ]
    },
    {
      "cell_type": "markdown",
      "source": [
        "###7. Reverse an array"
      ],
      "metadata": {
        "id": "QyWBuLHC4xIe"
      }
    },
    {
      "cell_type": "code",
      "source": [
        "array = [1 , 2, 0, 0, 4, 0]\n",
        "rev_arr = array[::-1]\n",
        "rev_arr"
      ],
      "metadata": {
        "colab": {
          "base_uri": "https://localhost:8080/"
        },
        "id": "a08igI7B71NR",
        "outputId": "90825d29-0500-4e13-ef57-6ca49c4f2fd5"
      },
      "execution_count": null,
      "outputs": [
        {
          "output_type": "execute_result",
          "data": {
            "text/plain": [
              "[0, 4, 0, 0, 2, 1]"
            ]
          },
          "metadata": {},
          "execution_count": 17
        }
      ]
    },
    {
      "cell_type": "markdown",
      "source": [
        "###8. Create a 2d array with 1 on border and 0 inside"
      ],
      "metadata": {
        "id": "I0dQpnBk8F5m"
      }
    },
    {
      "cell_type": "code",
      "source": [
        "arr = np.random.randint(1, 10, (7, 7))\n",
        "\n",
        "# arr = np.zeros_like(arr)\n",
        "arr[0, :] = 1\n",
        "arr[-1, :] = 1\n",
        "arr[:, 0] = 1\n",
        "arr[:, -1] = 1\n",
        "\n",
        "arr[0:-1, 1:-1] = 0\n",
        "\n",
        "arr"
      ],
      "metadata": {
        "colab": {
          "base_uri": "https://localhost:8080/"
        },
        "id": "_quSK1qs8Lrs",
        "outputId": "2dbe0923-0f89-45c6-bd53-01c4da1a49bb"
      },
      "execution_count": null,
      "outputs": [
        {
          "output_type": "execute_result",
          "data": {
            "text/plain": [
              "array([[1, 0, 0, 0, 0, 0, 1],\n",
              "       [1, 0, 0, 0, 0, 0, 1],\n",
              "       [1, 0, 0, 0, 0, 0, 1],\n",
              "       [1, 0, 0, 0, 0, 0, 1],\n",
              "       [1, 0, 0, 0, 0, 0, 1],\n",
              "       [1, 0, 0, 0, 0, 0, 1],\n",
              "       [1, 1, 1, 1, 1, 1, 1]])"
            ]
          },
          "metadata": {},
          "execution_count": 18
        }
      ]
    },
    {
      "cell_type": "markdown",
      "source": [
        "###9. Create a 8X8 matrix and fill it with a checkerboard pattern"
      ],
      "metadata": {
        "id": "wh0jVCsHBmgY"
      }
    },
    {
      "cell_type": "code",
      "source": [
        "array = np.zeros((9, 9), dtype=int)\n",
        "\n",
        "array[1::2, 0::2] = 1\n",
        "array[::2, 1::2] = 1\n",
        "array"
      ],
      "metadata": {
        "colab": {
          "base_uri": "https://localhost:8080/"
        },
        "id": "sBIudlc6CHaM",
        "outputId": "338fe150-b1e6-4bea-887a-b449025dd31a"
      },
      "execution_count": null,
      "outputs": [
        {
          "output_type": "execute_result",
          "data": {
            "text/plain": [
              "array([[0, 1, 0, 1, 0, 1, 0, 1, 0],\n",
              "       [1, 0, 1, 0, 1, 0, 1, 0, 1],\n",
              "       [0, 1, 0, 1, 0, 1, 0, 1, 0],\n",
              "       [1, 0, 1, 0, 1, 0, 1, 0, 1],\n",
              "       [0, 1, 0, 1, 0, 1, 0, 1, 0],\n",
              "       [1, 0, 1, 0, 1, 0, 1, 0, 1],\n",
              "       [0, 1, 0, 1, 0, 1, 0, 1, 0],\n",
              "       [1, 0, 1, 0, 1, 0, 1, 0, 1],\n",
              "       [0, 1, 0, 1, 0, 1, 0, 1, 0]])"
            ]
          },
          "metadata": {},
          "execution_count": 19
        }
      ]
    },
    {
      "cell_type": "markdown",
      "source": [
        "##Problem - 3: Array Operations"
      ],
      "metadata": {
        "id": "08ArRNw3WRRK"
      }
    },
    {
      "cell_type": "code",
      "source": [
        "x = np.array([[1, 2], [3, 5]])\n",
        "y = np.array([[5, 6], [7, 8]])\n",
        "v = np.array([9, 10])\n",
        "w = np.array([11, 12])"
      ],
      "metadata": {
        "id": "kopYagIcWT5T"
      },
      "execution_count": null,
      "outputs": []
    },
    {
      "cell_type": "markdown",
      "source": [
        "###1. Add Arrays"
      ],
      "metadata": {
        "id": "Poa4jtH7hZoI"
      }
    },
    {
      "cell_type": "code",
      "source": [
        "sum = x + y\n",
        "sum1 = v + w\n",
        "print(sum)\n",
        "print()\n",
        "print(sum1)"
      ],
      "metadata": {
        "colab": {
          "base_uri": "https://localhost:8080/"
        },
        "id": "M_yKg4ITZppN",
        "outputId": "91c0b07b-445c-4cae-bb7d-d2421f0b1337"
      },
      "execution_count": null,
      "outputs": [
        {
          "output_type": "stream",
          "name": "stdout",
          "text": [
            "[[ 6  8]\n",
            " [10 13]]\n",
            "\n",
            "[20 22]\n"
          ]
        }
      ]
    },
    {
      "cell_type": "markdown",
      "source": [
        "###2. Subtract Arrays"
      ],
      "metadata": {
        "id": "CFsCnFnZhm-w"
      }
    },
    {
      "cell_type": "code",
      "source": [
        "sub = x - y\n",
        "sub1 = v - w\n",
        "print(sub)\n",
        "print()\n",
        "print(sub1)"
      ],
      "metadata": {
        "colab": {
          "base_uri": "https://localhost:8080/"
        },
        "id": "6q84oJhZhjph",
        "outputId": "c859199d-bf1f-4742-e3ed-614c68ac2dea"
      },
      "execution_count": null,
      "outputs": [
        {
          "output_type": "stream",
          "name": "stdout",
          "text": [
            "[[-4 -4]\n",
            " [-4 -3]]\n",
            "\n",
            "[-2 -2]\n"
          ]
        }
      ]
    },
    {
      "cell_type": "markdown",
      "source": [
        "###3. Multiply Array With Integer"
      ],
      "metadata": {
        "id": "ZhwWzHKSh0K-"
      }
    },
    {
      "cell_type": "code",
      "source": [
        "mulArr = 7 * x\n",
        "mulArr"
      ],
      "metadata": {
        "colab": {
          "base_uri": "https://localhost:8080/"
        },
        "id": "ayf4SeObh5pg",
        "outputId": "52508d99-1a08-435e-8ede-ae50ec3ec9e4"
      },
      "execution_count": null,
      "outputs": [
        {
          "output_type": "execute_result",
          "data": {
            "text/plain": [
              "array([[ 7, 14],\n",
              "       [21, 35]])"
            ]
          },
          "metadata": {},
          "execution_count": 27
        }
      ]
    },
    {
      "cell_type": "markdown",
      "source": [
        "###4. Square of Each Element of Array"
      ],
      "metadata": {
        "id": "x3QmPXefiE4a"
      }
    },
    {
      "cell_type": "code",
      "source": [
        "powArr = x ** 2\n",
        "powArr"
      ],
      "metadata": {
        "colab": {
          "base_uri": "https://localhost:8080/"
        },
        "id": "alUtkSiUiIZp",
        "outputId": "6ec621f3-e3f5-465d-9e2a-057c840f728e"
      },
      "execution_count": null,
      "outputs": [
        {
          "output_type": "execute_result",
          "data": {
            "text/plain": [
              "array([[ 1,  4],\n",
              "       [ 9, 25]])"
            ]
          },
          "metadata": {},
          "execution_count": 28
        }
      ]
    },
    {
      "cell_type": "markdown",
      "source": [
        "###5. Dot Product"
      ],
      "metadata": {
        "id": "F9-BU9j8iQQ5"
      }
    },
    {
      "cell_type": "code",
      "source": [
        "vDotw = np.dot(v, w)\n",
        "xDotv = np.dot(x, v)\n",
        "xDoty = np.dot(x, y)\n",
        "\n",
        "print(f\"V.W: {vDotw}\")\n",
        "print(f\"X.V: {xDotv}\")\n",
        "print(f\"X.Y: \\n{xDoty}\")"
      ],
      "metadata": {
        "colab": {
          "base_uri": "https://localhost:8080/"
        },
        "id": "xmLoGkcaiTl2",
        "outputId": "2b6a7395-e80b-4382-f838-dfa1e7a63cbd"
      },
      "execution_count": null,
      "outputs": [
        {
          "output_type": "stream",
          "name": "stdout",
          "text": [
            "V.W: 219\n",
            "X.V: [29 77]\n",
            "X.Y: \n",
            "[[19 22]\n",
            " [50 58]]\n"
          ]
        }
      ]
    },
    {
      "cell_type": "markdown",
      "source": [
        "###6. Concatenate - 1"
      ],
      "metadata": {
        "id": "lIfvVtE3jN4i"
      }
    },
    {
      "cell_type": "code",
      "source": [
        "conxy = np.concatenate((x, y), axis = 0)\n",
        "convw = np.vstack((v, w))\n",
        "print(conxy)\n",
        "print()\n",
        "print(convw)"
      ],
      "metadata": {
        "colab": {
          "base_uri": "https://localhost:8080/"
        },
        "id": "b5a-KlsLixds",
        "outputId": "fbb411d1-cf27-494e-d729-c6cd07bfa318"
      },
      "execution_count": null,
      "outputs": [
        {
          "output_type": "stream",
          "name": "stdout",
          "text": [
            "[[1 2]\n",
            " [3 5]\n",
            " [5 6]\n",
            " [7 8]]\n",
            "\n",
            "[[ 9 10]\n",
            " [11 12]]\n"
          ]
        }
      ]
    },
    {
      "cell_type": "markdown",
      "source": [
        "###7. Concatenate - 2 (Dimension Mismatch)"
      ],
      "metadata": {
        "id": "nOQMjHVolJk7"
      }
    },
    {
      "cell_type": "code",
      "source": [
        "conxv = np.concatenate((x, v), axis = 0)\n",
        "conxv\n",
        "##This cause error because the arrays should have the same number of dimensions\n",
        "#x is a 2D array where as v is a 1D array"
      ],
      "metadata": {
        "colab": {
          "base_uri": "https://localhost:8080/",
          "height": 183
        },
        "id": "ZWQBcb1Qklwz",
        "outputId": "77c7fa66-eca7-4bb7-88a0-2804f226483b"
      },
      "execution_count": null,
      "outputs": [
        {
          "output_type": "error",
          "ename": "ValueError",
          "evalue": "all the input arrays must have same number of dimensions, but the array at index 0 has 2 dimension(s) and the array at index 1 has 1 dimension(s)",
          "traceback": [
            "\u001b[0;31m---------------------------------------------------------------------------\u001b[0m",
            "\u001b[0;31mValueError\u001b[0m                                Traceback (most recent call last)",
            "\u001b[0;32m<ipython-input-36-519fd49c3aac>\u001b[0m in \u001b[0;36m<cell line: 0>\u001b[0;34m()\u001b[0m\n\u001b[0;32m----> 1\u001b[0;31m \u001b[0mconxv\u001b[0m \u001b[0;34m=\u001b[0m \u001b[0mnp\u001b[0m\u001b[0;34m.\u001b[0m\u001b[0mconcatenate\u001b[0m\u001b[0;34m(\u001b[0m\u001b[0;34m(\u001b[0m\u001b[0mx\u001b[0m\u001b[0;34m,\u001b[0m \u001b[0mv\u001b[0m\u001b[0;34m)\u001b[0m\u001b[0;34m,\u001b[0m \u001b[0maxis\u001b[0m \u001b[0;34m=\u001b[0m \u001b[0;36m0\u001b[0m\u001b[0;34m)\u001b[0m\u001b[0;34m\u001b[0m\u001b[0;34m\u001b[0m\u001b[0m\n\u001b[0m\u001b[1;32m      2\u001b[0m \u001b[0mconxv\u001b[0m\u001b[0;34m\u001b[0m\u001b[0;34m\u001b[0m\u001b[0m\n",
            "\u001b[0;31mValueError\u001b[0m: all the input arrays must have same number of dimensions, but the array at index 0 has 2 dimension(s) and the array at index 1 has 1 dimension(s)"
          ]
        }
      ]
    },
    {
      "cell_type": "markdown",
      "source": [
        "##Problem - 4: Matrix Operations"
      ],
      "metadata": {
        "id": "oWh3SQf0lP0t"
      }
    },
    {
      "cell_type": "code",
      "source": [
        "A = np.array([[3, 4], [7, 8]])\n",
        "B = np.array([[5, 3], [2, 1]])"
      ],
      "metadata": {
        "id": "Y3ihJUwjktpV"
      },
      "execution_count": null,
      "outputs": []
    },
    {
      "cell_type": "markdown",
      "source": [
        "###1. A.A^-1 = I"
      ],
      "metadata": {
        "id": "9kPjHj2Vm_OT"
      }
    },
    {
      "cell_type": "code",
      "source": [
        "A_Inverse = np.linalg.inv(A)\n",
        "proof = np.round(np.matmul(A, A_Inverse))\n",
        "proof"
      ],
      "metadata": {
        "colab": {
          "base_uri": "https://localhost:8080/"
        },
        "id": "gndPbgFsmhsl",
        "outputId": "95048718-1047-4640-b878-fd3dd77238f9"
      },
      "execution_count": null,
      "outputs": [
        {
          "output_type": "execute_result",
          "data": {
            "text/plain": [
              "array([[1., 0.],\n",
              "       [0., 1.]])"
            ]
          },
          "metadata": {},
          "execution_count": 44
        }
      ]
    },
    {
      "cell_type": "markdown",
      "source": [
        "###2. AB != BA"
      ],
      "metadata": {
        "id": "3GaDIdKqnHCg"
      }
    },
    {
      "cell_type": "code",
      "source": [
        "AB = np.matmul(A, B)\n",
        "BA = np.matmul(B, A)\n",
        "\n",
        "print(f\"AB:\\n{AB} \\nBA:\\n{BA}\")"
      ],
      "metadata": {
        "colab": {
          "base_uri": "https://localhost:8080/"
        },
        "id": "ui6GTLxEnKS-",
        "outputId": "275b4584-323d-427f-bb19-c0348cd06fd5"
      },
      "execution_count": null,
      "outputs": [
        {
          "output_type": "stream",
          "name": "stdout",
          "text": [
            "AB:\n",
            "[[23 13]\n",
            " [51 29]] \n",
            "BA:\n",
            "[[36 44]\n",
            " [13 16]]\n"
          ]
        }
      ]
    },
    {
      "cell_type": "markdown",
      "source": [
        "###3. (AB)T = BT.AT"
      ],
      "metadata": {
        "id": "AE_8AaRcnKpW"
      }
    },
    {
      "cell_type": "code",
      "source": [
        "AB = np.matmul(A, B)\n",
        "AB_T = AB.T\n",
        "B_T = B.T\n",
        "A_T = A.T\n",
        "B_T_Dot_A_T = np.matmul(B_T, A_T)\n",
        "\n",
        "print(f\"AB_T: \\n{AB_T} \\n\\n B_T.A_T: \\n{B_T_Dot_A_T}\")"
      ],
      "metadata": {
        "colab": {
          "base_uri": "https://localhost:8080/"
        },
        "id": "KkCsk7denRT6",
        "outputId": "3292134a-68a3-443e-a317-f25b80d9a38b"
      },
      "execution_count": null,
      "outputs": [
        {
          "output_type": "stream",
          "name": "stdout",
          "text": [
            "AB_T: \n",
            "[[23 51]\n",
            " [13 29]] \n",
            "\n",
            " B_T.A_T: \n",
            "[[23 51]\n",
            " [13 29]]\n"
          ]
        }
      ]
    },
    {
      "cell_type": "markdown",
      "source": [
        "###Linear Equation Using Inverse Method"
      ],
      "metadata": {
        "id": "W-cNX-1tpmxB"
      }
    },
    {
      "cell_type": "code",
      "source": [
        "A = np.array([[2, -3, 1],\n",
        "              [1, -1, 2],\n",
        "              [3, 1,  -1]])\n",
        "B = np.array([-1, -3, 9])\n",
        "\n",
        "A_Inverse = np.linalg.inv(A)\n",
        "\n",
        "X = np.matmul(A_Inverse, B)\n",
        "\n",
        "print(f\"[x y z] = {X}\")"
      ],
      "metadata": {
        "colab": {
          "base_uri": "https://localhost:8080/"
        },
        "id": "7dQxuMsVpmdZ",
        "outputId": "a7b7455d-7e12-421e-e31e-e2608da11479"
      },
      "execution_count": null,
      "outputs": [
        {
          "output_type": "stream",
          "name": "stdout",
          "text": [
            "[x y z] = [ 2.  1. -2.]\n"
          ]
        }
      ]
    },
    {
      "cell_type": "markdown",
      "source": [
        "##Numpy Speed"
      ],
      "metadata": {
        "id": "PH8k30IUqonM"
      }
    },
    {
      "cell_type": "code",
      "source": [
        "size = 1000000\n",
        "matrices = 1000\n",
        "\n",
        "pyArr1 = list(range(size))\n",
        "pyArr2 = list(range(size))\n",
        "\n",
        "npArr1 = np.arange(size)\n",
        "npArr2 = np.arange(size)\n",
        "\n",
        "sTime = time.time()\n",
        "pySum = [pyArr1[i] + pyArr2[i] for i in range(size)]\n",
        "pyTimeAdd = time.time() - sTime\n",
        "\n",
        "sTime = time.time()\n",
        "npSum = npArr1 + npArr2\n",
        "npTimeAdd = time.time() - sTime\n",
        "\n",
        "print(f\"Addition Time: \\nNumpy: {npTimeAdd:.5f} \\nNormal Py list: {pyTimeAdd:.5f}\\n\")\n",
        "\n",
        "sTime = time.time()\n",
        "pyMul = [pyArr1[i] * pyArr2[i] for i in range(size)]\n",
        "pyTimeMul = time.time() - sTime\n",
        "\n",
        "sTime = time.time()\n",
        "npMul = npArr1 * npArr2\n",
        "npTimeMul = time.time() - sTime\n",
        "\n",
        "print(f\"Element Multiplication Time: \\nNumpy: {npTimeMul:.5f} \\nNormal Py list: {pyTimeMul:.5f}\\n\")\n",
        "\n",
        "sTime = time.time()\n",
        "pyDot = sum(pyArr1[i] * pyArr2[i] for i in range(size))\n",
        "pyTimeDot = time.time() - sTime\n",
        "\n",
        "sTime = time.time()\n",
        "npDot = np.dot(npArr1, npArr2)\n",
        "npTimeDot = time.time() - sTime\n",
        "\n",
        "print(f\"Dot Product Time: \\nNumpy: {npTimeDot:.5f} \\nNormal Py list: {pyTimeDot:.5f}\\n\")\n",
        "\n",
        "pyMat1 = [[j for j in range(matrices)] for i in range(matrices)]\n",
        "pyMat2 = [[j for j in range(matrices)] for i in range(matrices)]\n",
        "\n",
        "npMat1 = np.arange(matrices**2).reshape(matrices, matrices)\n",
        "npMat2 = np.arange(matrices**2).reshape(matrices, matrices)\n",
        "\n",
        "sTime = time.time()\n",
        "pyMatMul = [[sum(pyMat1[i][k] * pyMat2[k][j] for k in range(matrices)) for j in range(matrices)] for i in range(matrices)]\n",
        "pyTimeMatMul = time.time() - sTime\n",
        "\n",
        "sTime = time.time()\n",
        "npMatMul = np.dot(npMat1, npMat2)\n",
        "npTimeMatMul = time.time() - sTime\n",
        "\n",
        "print(f\"Matrix Multiplication Time: \\nNumpy: {npTimeMatMul:.5f} \\nNormal Py list: {pyTimeMatMul:.5f}\\n\")\n"
      ],
      "metadata": {
        "colab": {
          "base_uri": "https://localhost:8080/"
        },
        "id": "BS_JawrEqtE9",
        "outputId": "af27c0f0-0a18-4cdb-90c3-9f5e106211dc"
      },
      "execution_count": null,
      "outputs": [
        {
          "output_type": "stream",
          "name": "stdout",
          "text": [
            "Addition Time: \n",
            "Numpy: 0.00473 \n",
            "Normal Py list: 0.08615\n",
            "\n",
            "Element Multiplication Time: \n",
            "Numpy: 0.00275 \n",
            "Normal Py list: 0.12858\n",
            "\n",
            "Dot Product Time: \n",
            "Numpy: 0.00185 \n",
            "Normal Py list: 0.09987\n",
            "\n",
            "Matrix Multiplication Time: \n",
            "Numpy: 1.35412 \n",
            "Normal Py list: 185.17150\n",
            "\n"
          ]
        }
      ]
    }
  ]
}